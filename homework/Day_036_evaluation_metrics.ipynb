{
 "cells": [
  {
   "cell_type": "markdown",
   "metadata": {},
   "source": [
    "## [教學目標]\n",
    "學習 sklearn 中，各種評估指標的使用與意義"
   ]
  },
  {
   "cell_type": "markdown",
   "metadata": {},
   "source": [
    "## [範例重點]\n",
    "注意觀察各指標的數值範圍，以及輸入函數中的資料格式"
   ]
  },
  {
   "cell_type": "code",
   "execution_count": 2,
   "metadata": {},
   "outputs": [],
   "source": [
    "from sklearn import metrics, datasets\n",
    "from sklearn.linear_model import LinearRegression\n",
    "from sklearn.model_selection import train_test_split\n",
    "\n",
    "import matplotlib.pyplot as plt\n",
    "from matplotlib.pylab import rcParams\n",
    "import numpy as np\n",
    "%matplotlib inline"
   ]
  },
  {
   "cell_type": "markdown",
   "metadata": {},
   "source": [
    "## 回歸問題\n",
    "常見的評估指標有\n",
    "- MAE\n",
    "- MSE\n",
    "- R-square"
   ]
  },
  {
   "cell_type": "markdown",
   "metadata": {},
   "source": [
    "我們隨機生成(X, y)資料，然後使用線性回歸模型做預測，再使用 MAE, MSE, R-square 評估"
   ]
  },
  {
   "cell_type": "code",
   "execution_count": 3,
   "metadata": {},
   "outputs": [
    {
     "name": "stdout",
     "output_type": "stream",
     "text": [
      "MAE:  2.8417972525655673\n",
      "MSE:  12.488680067398239\n",
      "R-square:  0.9916581036260311\n"
     ]
    }
   ],
   "source": [
    "X, y = datasets.make_regression(n_features=1, random_state=42, noise=4) # 生成資料\n",
    "model = LinearRegression() # 建立回歸模型\n",
    "model.fit(X, y) # 將資料放進模型訓練\n",
    "prediction = model.predict(X) # 進行預測\n",
    "mae = metrics.mean_absolute_error(prediction, y) # 使用 MAE 評估\n",
    "mse = metrics.mean_squared_error(prediction, y) # 使用 MSE 評估\n",
    "r2 = metrics.r2_score(prediction, y) # 使用 r-square 評估\n",
    "print(\"MAE: \", mae)\n",
    "print(\"MSE: \", mse)\n",
    "print(\"R-square: \", r2)"
   ]
  },
  {
   "cell_type": "code",
   "execution_count": 4,
   "metadata": {},
   "outputs": [
    {
     "data": {
      "text/plain": [
       "array([[ 0.93128012],\n",
       "       [ 0.08704707],\n",
       "       [-1.05771093],\n",
       "       [ 0.31424733],\n",
       "       [-0.47917424],\n",
       "       [ 0.64768854],\n",
       "       [-0.46341769],\n",
       "       [ 0.54256004],\n",
       "       [ 0.61167629],\n",
       "       [ 1.0035329 ],\n",
       "       [ 0.8219025 ],\n",
       "       [ 1.53803657],\n",
       "       [ 0.73846658],\n",
       "       [-0.21967189],\n",
       "       [-0.8084936 ],\n",
       "       [ 0.09176078],\n",
       "       [-1.95967012],\n",
       "       [ 0.51326743],\n",
       "       [ 1.03099952],\n",
       "       [-2.6197451 ],\n",
       "       [ 0.49671415],\n",
       "       [ 0.09707755],\n",
       "       [-0.46572975],\n",
       "       [ 0.91540212],\n",
       "       [ 1.56464366],\n",
       "       [ 1.46564877],\n",
       "       [-0.60063869],\n",
       "       [-0.03582604],\n",
       "       [-0.60170661],\n",
       "       [-1.19620662],\n",
       "       [ 0.35711257],\n",
       "       [ 0.37569802],\n",
       "       [ 0.26105527],\n",
       "       [-0.5297602 ],\n",
       "       [-0.90802408],\n",
       "       [ 0.19686124],\n",
       "       [-0.29900735],\n",
       "       [ 0.36163603],\n",
       "       [ 0.82254491],\n",
       "       [-0.29169375],\n",
       "       [ 0.36139561],\n",
       "       [-0.676922  ],\n",
       "       [ 1.52302986],\n",
       "       [-0.51827022],\n",
       "       [-0.23415337],\n",
       "       [-0.39210815],\n",
       "       [-0.3011037 ],\n",
       "       [-0.64511975],\n",
       "       [ 0.32875111],\n",
       "       [ 0.2088636 ],\n",
       "       [-0.32766215],\n",
       "       [ 0.00511346],\n",
       "       [-0.23413696],\n",
       "       [ 1.47789404],\n",
       "       [-0.38508228],\n",
       "       [ 0.34361829],\n",
       "       [ 0.33126343],\n",
       "       [-0.18565898],\n",
       "       [-0.23458713],\n",
       "       [-1.98756891],\n",
       "       [ 0.32408397],\n",
       "       [-0.2257763 ],\n",
       "       [-1.10633497],\n",
       "       [-0.70205309],\n",
       "       [-1.46351495],\n",
       "       [ 0.96864499],\n",
       "       [-1.72491783],\n",
       "       [-1.91328024],\n",
       "       [-0.56228753],\n",
       "       [ 0.76743473],\n",
       "       [ 0.81252582],\n",
       "       [-1.4123037 ],\n",
       "       [-1.47852199],\n",
       "       [-1.22084365],\n",
       "       [-0.83921752],\n",
       "       [ 1.57921282],\n",
       "       [ 0.97554513],\n",
       "       [ 0.24196227],\n",
       "       [ 0.29612028],\n",
       "       [-0.54438272],\n",
       "       [-1.76304016],\n",
       "       [ 0.11092259],\n",
       "       [ 0.17136828],\n",
       "       [-1.32818605],\n",
       "       [ 1.05712223],\n",
       "       [-0.11564828],\n",
       "       [-0.46947439],\n",
       "       [-0.01349722],\n",
       "       [-1.01283112],\n",
       "       [-0.1382643 ],\n",
       "       [-1.15099358],\n",
       "       [ 1.35624003],\n",
       "       [ 0.0675282 ],\n",
       "       [-0.50175704],\n",
       "       [-0.46063877],\n",
       "       [ 1.85227818],\n",
       "       [-1.42474819],\n",
       "       [-0.71984421],\n",
       "       [-0.07201012],\n",
       "       [-0.30921238]])"
      ]
     },
     "execution_count": 4,
     "metadata": {},
     "output_type": "execute_result"
    }
   ],
   "source": [
    "X"
   ]
  },
  {
   "cell_type": "markdown",
   "metadata": {},
   "source": [
    "## 分類問題\n",
    "常見的評估指標有\n",
    "- AUC\n",
    "- F1-Score (Precision, Recall)"
   ]
  },
  {
   "cell_type": "code",
   "execution_count": 5,
   "metadata": {},
   "outputs": [],
   "source": [
    "cancer = datasets.load_breast_cancer() # 我們使用 sklearn 內含的乳癌資料集\n",
    "X_train, X_test, y_train, y_test = train_test_split(cancer.data, cancer.target, test_size=50, random_state=0)"
   ]
  },
  {
   "cell_type": "code",
   "execution_count": 6,
   "metadata": {},
   "outputs": [
    {
     "name": "stdout",
     "output_type": "stream",
     "text": [
      "[0 1 1 1 1 1 1 1 1 1 1 1 1 1 1 0 1 0 0 0 0 0 1 1 0 1 1 0 1 0 1 0 1 0 1 0 1\n",
      " 0 1 0 0 1 0 1 1 0 1 1 1 0]\n"
     ]
    }
   ],
   "source": [
    "print(y_test) # 測試集中的 label"
   ]
  },
  {
   "cell_type": "code",
   "execution_count": 7,
   "metadata": {},
   "outputs": [],
   "source": [
    "y_pred = np.random.random((50,)) # 我們先隨機生成 50 筆預測值，範圍都在 0~1 之間，代表機率值"
   ]
  },
  {
   "cell_type": "code",
   "execution_count": 8,
   "metadata": {},
   "outputs": [
    {
     "name": "stdout",
     "output_type": "stream",
     "text": [
      "[0.61694258 0.82011086 0.81787591 0.98605582 0.84409979 0.28356414\n",
      " 0.6885536  0.03632187 0.25081568 0.07834434 0.22481827 0.44193664\n",
      " 0.25830555 0.67552518 0.98025285 0.22416101 0.26526381 0.09275287\n",
      " 0.47832576 0.12214599 0.77145671 0.74860897 0.18501437 0.04304197\n",
      " 0.38118065 0.22738308 0.19931028 0.09666033 0.86675237 0.71714371\n",
      " 0.37644331 0.93851174 0.43428673 0.68923829 0.40807881 0.92442696\n",
      " 0.03334775 0.00968906 0.20046771 0.55689461 0.52548407 0.39051127\n",
      " 0.05970705 0.10396171 0.47364612 0.99246052 0.60028989 0.10816564\n",
      " 0.91679012 0.41404436]\n"
     ]
    }
   ],
   "source": [
    "print(y_pred)"
   ]
  },
  {
   "cell_type": "markdown",
   "metadata": {},
   "source": [
    "### AUC"
   ]
  },
  {
   "cell_type": "code",
   "execution_count": 9,
   "metadata": {},
   "outputs": [
    {
     "name": "stdout",
     "output_type": "stream",
     "text": [
      "AUC:  0.4397283531409168\n"
     ]
    }
   ],
   "source": [
    "auc = metrics.roc_auc_score(y_test, y_pred) # 使用 roc_auc_score 來評估。 **這邊特別注意 y_pred 必須要放機率值進去!**\n",
    "print(\"AUC: \", auc) # 得到結果約 0.5，與亂猜的結果相近，因為我們的預測值是用隨機生成的"
   ]
  },
  {
   "cell_type": "markdown",
   "metadata": {},
   "source": [
    "## F1-Score"
   ]
  },
  {
   "cell_type": "code",
   "execution_count": 10,
   "metadata": {},
   "outputs": [
    {
     "name": "stdout",
     "output_type": "stream",
     "text": [
      "F1-Score:  0.39215686274509803\n",
      "Precision:  0.5\n",
      "Recall:  0.3225806451612903\n"
     ]
    }
   ],
   "source": [
    "threshold = 0.5 \n",
    "y_pred_binarized = np.where(y_pred>threshold, 1, 0) # 使用 np.where 函數, 將 y_pred > 0.5 的值變為 1，小於 0.5 的為 0\n",
    "f1 = metrics.f1_score(y_test, y_pred_binarized) # 使用 F1-Score 評估\n",
    "precision = metrics.precision_score(y_test, y_pred_binarized) # 使用 Precision 評估\n",
    "recall  = metrics.recall_score(y_test, y_pred_binarized) # 使用 recall 評估\n",
    "print(\"F1-Score: \", f1) \n",
    "print(\"Precision: \", precision)\n",
    "print(\"Recall: \", recall)"
   ]
  },
  {
   "cell_type": "markdown",
   "metadata": {},
   "source": [
    "## [作業重點]\n",
    "了解 F1-score 的公式意義，並試著理解程式碼"
   ]
  },
  {
   "cell_type": "markdown",
   "metadata": {},
   "source": [
    "## 作業\n",
    "請參考 F1-score 的公式與[原始碼](https://github.com/scikit-learn/scikit-learn/blob/bac89c2/sklearn/metrics/classification.py#L620)，試著寫出 F2-Score 的計算函數"
   ]
  },
  {
   "cell_type": "code",
   "execution_count": null,
   "metadata": {},
   "outputs": [],
   "source": []
  }
 ],
 "metadata": {
  "kernelspec": {
   "display_name": "Python 3",
   "language": "python",
   "name": "python3"
  },
  "language_info": {
   "codemirror_mode": {
    "name": "ipython",
    "version": 3
   },
   "file_extension": ".py",
   "mimetype": "text/x-python",
   "name": "python",
   "nbconvert_exporter": "python",
   "pygments_lexer": "ipython3",
   "version": "3.7.3"
  }
 },
 "nbformat": 4,
 "nbformat_minor": 2
}
