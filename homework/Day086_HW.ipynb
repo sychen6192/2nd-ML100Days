{
 "cells": [
  {
   "cell_type": "markdown",
   "metadata": {},
   "source": [
    "## Work\n",
    "1. 試比較 save_best_only 與否的差異\n",
    "2. 請僅存入將 save_weights_only 設定為 True, 並嘗試 reset ipynb 並將模型與權重重新建回並預測 x_test"
   ]
  },
  {
   "cell_type": "code",
   "execution_count": 1,
   "metadata": {},
   "outputs": [
    {
     "name": "stderr",
     "output_type": "stream",
     "text": [
      "Using TensorFlow backend.\n"
     ]
    }
   ],
   "source": [
    "import os\n",
    "import keras"
   ]
  },
  {
   "cell_type": "code",
   "execution_count": 2,
   "metadata": {},
   "outputs": [],
   "source": [
    "train, test = keras.datasets.cifar10.load_data()"
   ]
  },
  {
   "cell_type": "code",
   "execution_count": 3,
   "metadata": {},
   "outputs": [],
   "source": [
    "## 資料前處理\n",
    "def preproc_x(x, flatten=True):\n",
    "    x = x / 255.\n",
    "    if flatten:\n",
    "        x = x.reshape((len(x), -1))\n",
    "    return x\n",
    "\n",
    "def preproc_y(y, num_classes=10):\n",
    "    if y.shape[-1] == 1:\n",
    "        y = keras.utils.to_categorical(y, num_classes)\n",
    "    return y    "
   ]
  },
  {
   "cell_type": "code",
   "execution_count": 4,
   "metadata": {},
   "outputs": [],
   "source": [
    "x_train, y_train = train\n",
    "x_test, y_test = test\n",
    "\n",
    "# Preproc the inputs\n",
    "x_train = preproc_x(x_train)\n",
    "x_test = preproc_x(x_test)\n",
    "\n",
    "# Preprc the outputs\n",
    "y_train = preproc_y(y_train)\n",
    "y_test = preproc_y(y_test)"
   ]
  },
  {
   "cell_type": "code",
   "execution_count": 5,
   "metadata": {},
   "outputs": [],
   "source": [
    "from keras.layers import BatchNormalization\n",
    "def build_mlp(input_shape, output_units=10, num_neurons=[512, 256, 128]):\n",
    "    input_layer = keras.layers.Input(input_shape)\n",
    "    for i, n_unit in enumerate(num_neurons):\n",
    "        if i ==0:\n",
    "            x = keras.layers.Dense(units=n_unit, activation='relu', name='hidden_layer'+str(i))(input_layer)\n",
    "            x = BatchNormalization()(x)\n",
    "        else:\n",
    "            x = keras.layers.Dense(units=n_unit, activation='relu', name='hidden_layer'+str(i))(x)\n",
    "            x = BatchNormalization()(x)\n",
    "    out = keras.layers.Dense(units=output_units, activation='softmax', name='output')(x)\n",
    "    model = keras.models.Model(inputs=[input_layer], outputs=[out])\n",
    "    return model"
   ]
  },
  {
   "cell_type": "code",
   "execution_count": 6,
   "metadata": {},
   "outputs": [],
   "source": [
    "## 超參數設定\n",
    "LEARNING_RATE = 1e-3\n",
    "EPOCHS = 50\n",
    "BATCH_SIZE = 1024\n",
    "MOMENTUM = 0.95"
   ]
  },
  {
   "cell_type": "code",
   "execution_count": 7,
   "metadata": {},
   "outputs": [
    {
     "name": "stdout",
     "output_type": "stream",
     "text": [
      "Model: \"model_1\"\n",
      "_________________________________________________________________\n",
      "Layer (type)                 Output Shape              Param #   \n",
      "=================================================================\n",
      "input_1 (InputLayer)         (None, 3072)              0         \n",
      "_________________________________________________________________\n",
      "hidden_layer0 (Dense)        (None, 512)               1573376   \n",
      "_________________________________________________________________\n",
      "batch_normalization_1 (Batch (None, 512)               2048      \n",
      "_________________________________________________________________\n",
      "hidden_layer1 (Dense)        (None, 256)               131328    \n",
      "_________________________________________________________________\n",
      "batch_normalization_2 (Batch (None, 256)               1024      \n",
      "_________________________________________________________________\n",
      "hidden_layer2 (Dense)        (None, 128)               32896     \n",
      "_________________________________________________________________\n",
      "batch_normalization_3 (Batch (None, 128)               512       \n",
      "_________________________________________________________________\n",
      "output (Dense)               (None, 10)                1290      \n",
      "=================================================================\n",
      "Total params: 1,742,474\n",
      "Trainable params: 1,740,682\n",
      "Non-trainable params: 1,792\n",
      "_________________________________________________________________\n",
      "Train on 50000 samples, validate on 10000 samples\n",
      "Epoch 1/50\n",
      "50000/50000 [==============================] - 3s 60us/step - loss: 2.2021 - accuracy: 0.2704 - val_loss: 2.1853 - val_accuracy: 0.1693\n",
      "Epoch 2/50\n",
      "50000/50000 [==============================] - 2s 44us/step - loss: 1.7407 - accuracy: 0.3949 - val_loss: 2.0071 - val_accuracy: 0.2816\n",
      "Epoch 3/50\n",
      "50000/50000 [==============================] - 2s 45us/step - loss: 1.6170 - accuracy: 0.4347 - val_loss: 1.8256 - val_accuracy: 0.3669\n",
      "Epoch 4/50\n",
      "50000/50000 [==============================] - 2s 44us/step - loss: 1.5461 - accuracy: 0.4587 - val_loss: 1.7430 - val_accuracy: 0.3966\n",
      "Epoch 5/50\n",
      "50000/50000 [==============================] - 2s 46us/step - loss: 1.4898 - accuracy: 0.4786 - val_loss: 1.6504 - val_accuracy: 0.4254\n",
      "Epoch 6/50\n",
      "50000/50000 [==============================] - 2s 44us/step - loss: 1.4467 - accuracy: 0.4938 - val_loss: 1.5921 - val_accuracy: 0.4478\n",
      "Epoch 7/50\n",
      "50000/50000 [==============================] - 2s 43us/step - loss: 1.4068 - accuracy: 0.5094 - val_loss: 1.5652 - val_accuracy: 0.4492\n",
      "Epoch 8/50\n",
      "50000/50000 [==============================] - 2s 44us/step - loss: 1.3710 - accuracy: 0.5235 - val_loss: 1.5319 - val_accuracy: 0.4622\n",
      "Epoch 9/50\n",
      "50000/50000 [==============================] - 2s 43us/step - loss: 1.3391 - accuracy: 0.5342 - val_loss: 1.5121 - val_accuracy: 0.4693\n",
      "Epoch 10/50\n",
      "50000/50000 [==============================] - 2s 44us/step - loss: 1.3096 - accuracy: 0.5448 - val_loss: 1.4957 - val_accuracy: 0.4805\n",
      "Epoch 11/50\n",
      "50000/50000 [==============================] - 2s 43us/step - loss: 1.2825 - accuracy: 0.5554 - val_loss: 1.4918 - val_accuracy: 0.4757\n",
      "Epoch 12/50\n",
      "50000/50000 [==============================] - 2s 44us/step - loss: 1.2555 - accuracy: 0.5671 - val_loss: 1.4781 - val_accuracy: 0.4842\n",
      "Epoch 13/50\n",
      "50000/50000 [==============================] - 2s 43us/step - loss: 1.2308 - accuracy: 0.5775 - val_loss: 1.5001 - val_accuracy: 0.4738\n",
      "Epoch 14/50\n",
      "50000/50000 [==============================] - 2s 43us/step - loss: 1.2082 - accuracy: 0.5839 - val_loss: 1.4785 - val_accuracy: 0.4882\n",
      "Epoch 15/50\n",
      "50000/50000 [==============================] - 2s 43us/step - loss: 1.1833 - accuracy: 0.5931 - val_loss: 1.4686 - val_accuracy: 0.4900\n",
      "Epoch 16/50\n",
      "50000/50000 [==============================] - 2s 44us/step - loss: 1.1604 - accuracy: 0.6020 - val_loss: 1.4705 - val_accuracy: 0.4865\n",
      "Epoch 17/50\n",
      "50000/50000 [==============================] - 2s 44us/step - loss: 1.1366 - accuracy: 0.6106 - val_loss: 1.4554 - val_accuracy: 0.4957\n",
      "Epoch 18/50\n",
      "50000/50000 [==============================] - 2s 43us/step - loss: 1.1170 - accuracy: 0.6182 - val_loss: 1.4619 - val_accuracy: 0.4893\n",
      "Epoch 19/50\n",
      "50000/50000 [==============================] - 2s 43us/step - loss: 1.0953 - accuracy: 0.6259 - val_loss: 1.4644 - val_accuracy: 0.4907\n",
      "Epoch 20/50\n",
      "50000/50000 [==============================] - 2s 44us/step - loss: 1.0748 - accuracy: 0.6344 - val_loss: 1.4675 - val_accuracy: 0.4914\n",
      "Epoch 21/50\n",
      "50000/50000 [==============================] - 2s 43us/step - loss: 1.0523 - accuracy: 0.6424 - val_loss: 1.4618 - val_accuracy: 0.4940\n",
      "Epoch 22/50\n",
      "50000/50000 [==============================] - 2s 44us/step - loss: 1.0331 - accuracy: 0.6498 - val_loss: 1.4609 - val_accuracy: 0.4929\n",
      "Epoch 23/50\n",
      "50000/50000 [==============================] - 2s 43us/step - loss: 1.0129 - accuracy: 0.6572 - val_loss: 1.4569 - val_accuracy: 0.4942\n",
      "Epoch 24/50\n",
      "50000/50000 [==============================] - 2s 43us/step - loss: 0.9893 - accuracy: 0.6681 - val_loss: 1.4702 - val_accuracy: 0.4904\n",
      "Epoch 25/50\n",
      "50000/50000 [==============================] - 2s 43us/step - loss: 0.9708 - accuracy: 0.6742 - val_loss: 1.4656 - val_accuracy: 0.4979\n",
      "Epoch 26/50\n",
      "50000/50000 [==============================] - 2s 43us/step - loss: 0.9508 - accuracy: 0.6827 - val_loss: 1.4635 - val_accuracy: 0.4977\n",
      "Epoch 27/50\n",
      "50000/50000 [==============================] - 2s 43us/step - loss: 0.9307 - accuracy: 0.6901 - val_loss: 1.4763 - val_accuracy: 0.4953\n",
      "Epoch 28/50\n",
      "50000/50000 [==============================] - 2s 43us/step - loss: 0.9107 - accuracy: 0.6978 - val_loss: 1.4684 - val_accuracy: 0.4982\n",
      "Epoch 29/50\n",
      "50000/50000 [==============================] - 2s 42us/step - loss: 0.8928 - accuracy: 0.7035 - val_loss: 1.4898 - val_accuracy: 0.4989\n",
      "Epoch 30/50\n",
      "50000/50000 [==============================] - 2s 43us/step - loss: 0.8725 - accuracy: 0.7124 - val_loss: 1.4818 - val_accuracy: 0.4981\n",
      "Epoch 31/50\n",
      "50000/50000 [==============================] - 2s 43us/step - loss: 0.8518 - accuracy: 0.7199 - val_loss: 1.4810 - val_accuracy: 0.4967\n",
      "Epoch 32/50\n",
      "50000/50000 [==============================] - 2s 43us/step - loss: 0.8329 - accuracy: 0.7291 - val_loss: 1.4943 - val_accuracy: 0.5025\n",
      "Epoch 33/50\n",
      "50000/50000 [==============================] - 2s 44us/step - loss: 0.8147 - accuracy: 0.7346 - val_loss: 1.5099 - val_accuracy: 0.4911\n",
      "Epoch 34/50\n",
      "50000/50000 [==============================] - 2s 43us/step - loss: 0.7954 - accuracy: 0.7429 - val_loss: 1.4999 - val_accuracy: 0.4977\n",
      "Epoch 35/50\n",
      "50000/50000 [==============================] - 2s 43us/step - loss: 0.7741 - accuracy: 0.7518 - val_loss: 1.5053 - val_accuracy: 0.4998\n",
      "Epoch 36/50\n",
      "50000/50000 [==============================] - 2s 43us/step - loss: 0.7566 - accuracy: 0.7585 - val_loss: 1.5153 - val_accuracy: 0.4993\n",
      "Epoch 37/50\n",
      "50000/50000 [==============================] - 2s 43us/step - loss: 0.7368 - accuracy: 0.7656 - val_loss: 1.5235 - val_accuracy: 0.4960\n",
      "Epoch 38/50\n",
      "50000/50000 [==============================] - 2s 43us/step - loss: 0.7198 - accuracy: 0.7729 - val_loss: 1.5369 - val_accuracy: 0.4931\n",
      "Epoch 39/50\n",
      "50000/50000 [==============================] - 2s 43us/step - loss: 0.7041 - accuracy: 0.7784 - val_loss: 1.5288 - val_accuracy: 0.4997\n",
      "Epoch 40/50\n",
      "50000/50000 [==============================] - 2s 43us/step - loss: 0.6822 - accuracy: 0.7878 - val_loss: 1.5510 - val_accuracy: 0.4986\n",
      "Epoch 41/50\n",
      "50000/50000 [==============================] - 2s 43us/step - loss: 0.6644 - accuracy: 0.7942 - val_loss: 1.5651 - val_accuracy: 0.4948\n",
      "Epoch 42/50\n",
      "50000/50000 [==============================] - 2s 43us/step - loss: 0.6462 - accuracy: 0.8013 - val_loss: 1.5753 - val_accuracy: 0.4947\n",
      "Epoch 43/50\n",
      "50000/50000 [==============================] - 2s 44us/step - loss: 0.6273 - accuracy: 0.8092 - val_loss: 1.5779 - val_accuracy: 0.4953\n",
      "Epoch 44/50\n",
      "50000/50000 [==============================] - 2s 42us/step - loss: 0.6089 - accuracy: 0.8160 - val_loss: 1.5840 - val_accuracy: 0.4936\n",
      "Epoch 45/50\n",
      "50000/50000 [==============================] - 2s 43us/step - loss: 0.5916 - accuracy: 0.8243 - val_loss: 1.6111 - val_accuracy: 0.4945\n",
      "Epoch 46/50\n"
     ]
    },
    {
     "name": "stdout",
     "output_type": "stream",
     "text": [
      "50000/50000 [==============================] - 2s 43us/step - loss: 0.5766 - accuracy: 0.8288 - val_loss: 1.6169 - val_accuracy: 0.4935\n",
      "Epoch 47/50\n",
      "50000/50000 [==============================] - 2s 42us/step - loss: 0.5575 - accuracy: 0.8367 - val_loss: 1.6354 - val_accuracy: 0.4959\n",
      "Epoch 48/50\n",
      "50000/50000 [==============================] - 2s 43us/step - loss: 0.5416 - accuracy: 0.8433 - val_loss: 1.6378 - val_accuracy: 0.4897\n",
      "Epoch 49/50\n",
      "50000/50000 [==============================] - 2s 43us/step - loss: 0.5232 - accuracy: 0.8496 - val_loss: 1.6518 - val_accuracy: 0.4901\n",
      "Epoch 50/50\n",
      "50000/50000 [==============================] - 2s 43us/step - loss: 0.5066 - accuracy: 0.8578 - val_loss: 1.6645 - val_accuracy: 0.4880\n"
     ]
    }
   ],
   "source": [
    "# 載入 Callbacks\n",
    "from keras.callbacks import ModelCheckpoint\n",
    "model_ckpt = ModelCheckpoint(\n",
    "    filepath='./true.h5',\n",
    "    save_best_only=True,\n",
    "    monitor='val_loss')\n",
    "\n",
    "results = {}\n",
    "\n",
    "\n",
    "model = build_mlp(x_train.shape[1:])\n",
    "model.summary()\n",
    "opt = keras.optimizers.SGD(momentum=MOMENTUM, nesterov=True, lr=LEARNING_RATE)\n",
    "model.compile(loss='categorical_crossentropy', metrics=['accuracy'], optimizer=opt)\n",
    "model.fit(x_train, y_train, batch_size=BATCH_SIZE, epochs=EPOCHS, validation_data=(x_test, y_test),\n",
    "         callbacks=[model_ckpt], shuffle=True)\n",
    "\n",
    "model.save(\"final_model.h5\")\n",
    "model.save_weights(\"model_weights.h5\")\n",
    "\n",
    "results[\"save_best\"] = {\n",
    "    \"train_loss\": model.history.history[\"loss\"],\n",
    "    \"val_loss\": model.history.history[\"val_loss\"],\n",
    "    \"train_acc\": model.history.history[\"accuracy\"],\n",
    "    \"val_acc\": model.history.history[\"val_accuracy\"]\n",
    "}"
   ]
  },
  {
   "cell_type": "code",
   "execution_count": 15,
   "metadata": {},
   "outputs": [],
   "source": [
    "pre_final = model.predict(x_test)\n",
    "model = keras.models.load_model('./true.h5')\n",
    "pred_loadback = model.predict(x_test)"
   ]
  },
  {
   "cell_type": "code",
   "execution_count": 16,
   "metadata": {},
   "outputs": [],
   "source": [
    "from sklearn.metrics import accuracy_score"
   ]
  },
  {
   "cell_type": "code",
   "execution_count": 17,
   "metadata": {},
   "outputs": [
    {
     "name": "stdout",
     "output_type": "stream",
     "text": [
      "Accuracy of final weights: 0.494\n",
      "Accuracy of best weights: 0.496\n"
     ]
    }
   ],
   "source": [
    "final_model_acc = accuracy_score(y_true=y_test.argmax(axis=-1), y_pred=pre_final.argmax(axis=-1))\n",
    "loadback_acc = accuracy_score(y_true=y_test.argmax(axis=-1), y_pred=pred_loadback.argmax(axis=-1))\n",
    "\n",
    "print(\"Accuracy of final weights: %.3f\" % final_model_acc)\n",
    "print(\"Accuracy of best weights: %.3f\" % loadback_acc)"
   ]
  },
  {
   "cell_type": "code",
   "execution_count": 27,
   "metadata": {},
   "outputs": [
    {
     "name": "stdout",
     "output_type": "stream",
     "text": [
      "Accuracy of best weights: 0.112\n",
      "Accuracy of best weights: 0.488\n"
     ]
    }
   ],
   "source": [
    "new_model = build_mlp(x_train.shape[1:])\n",
    "new_model_predict = new_model.predict(x_test)\n",
    "new_model_acc = accuracy_score(y_true=y_test.argmax(axis=-1), y_pred=new_model_predict.argmax(axis=-1))\n",
    "print(\"Accuracy of best weights: %.3f\" % new_model_acc)\n",
    "new_model.load_weights('./model_weights.h5')\n",
    "new_model_predict = new_model.predict(x_test)\n",
    "new_model_loadback_acc = accuracy_score(y_true=y_test.argmax(axis=-1), y_pred=new_model_predict.argmax(axis=-1))\n",
    "print(\"Accuracy of best weights: %.3f\" % new_model_loadback_acc)"
   ]
  }
 ],
 "metadata": {
  "kernelspec": {
   "display_name": "Python 3",
   "language": "python",
   "name": "python3"
  },
  "language_info": {
   "codemirror_mode": {
    "name": "ipython",
    "version": 3
   },
   "file_extension": ".py",
   "mimetype": "text/x-python",
   "name": "python",
   "nbconvert_exporter": "python",
   "pygments_lexer": "ipython3",
   "version": "3.7.5"
  }
 },
 "nbformat": 4,
 "nbformat_minor": 2
}
