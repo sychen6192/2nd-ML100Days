{
 "cells": [
  {
   "cell_type": "markdown",
   "metadata": {},
   "source": [
    "## Work\n",
    "1. 請嘗試將 preproc_x 替換成以每筆資料的 min/max 進行標準化至 -1 ~ 1 間，再進行訓練\n",
    "2. 請嘗試將 mlp 疊更深 (e.g 5~10 層)，進行訓練後觀察 learning curve 的走勢\n",
    "3. (optional) 請改用 GPU 進行訓練 (如果你有 GPU 的話)，比較使用 CPU 與 GPU 的訓練速度"
   ]
  },
  {
   "cell_type": "code",
   "execution_count": 5,
   "metadata": {},
   "outputs": [
    {
     "name": "stdout",
     "output_type": "stream",
     "text": [
      "Sat Nov 16 16:39:25 2019       \n",
      "+-----------------------------------------------------------------------------+\n",
      "| NVIDIA-SMI 436.48       Driver Version: 436.48       CUDA Version: 10.1     |\n",
      "|-------------------------------+----------------------+----------------------+\n",
      "| GPU  Name            TCC/WDDM | Bus-Id        Disp.A | Volatile Uncorr. ECC |\n",
      "| Fan  Temp  Perf  Pwr:Usage/Cap|         Memory-Usage | GPU-Util  Compute M. |\n",
      "|===============================+======================+======================|\n",
      "|   0  GeForce GTX 960    WDDM  | 00000000:01:00.0 Off |                  N/A |\n",
      "|  7%   45C    P8    11W / 130W |    187MiB /  2048MiB |      0%      Default |\n",
      "+-------------------------------+----------------------+----------------------+\n",
      "                                                                               \n",
      "+-----------------------------------------------------------------------------+\n",
      "| Processes:                                                       GPU Memory |\n",
      "|  GPU       PID   Type   Process name                             Usage      |\n",
      "|=============================================================================|\n",
      "|    0      2032    C+G   Insufficient Permissions                   N/A      |\n",
      "|    0      4988    C+G   ...hell.Experiences.TextInput.InputApp.exe N/A      |\n",
      "|    0      6444    C+G   ...mmersiveControlPanel\\SystemSettings.exe N/A      |\n",
      "|    0      6660    C+G   Insufficient Permissions                   N/A      |\n",
      "|    0      7176    C+G   C:\\Windows\\explorer.exe                    N/A      |\n",
      "|    0      7300    C+G   Insufficient Permissions                   N/A      |\n",
      "|    0      8272    C+G   ...t_cw5n1h2txyewy\\ShellExperienceHost.exe N/A      |\n",
      "|    0      8620    C+G   ...osoft.LockApp_cw5n1h2txyewy\\LockApp.exe N/A      |\n",
      "|    0      8756    C+G   ...dows.Cortana_cw5n1h2txyewy\\SearchUI.exe N/A      |\n",
      "|    0      9236    C+G   ...x64__8wekyb3d8bbwe\\Microsoft.Photos.exe N/A      |\n",
      "|    0     10408    C+G   ...8.0.0_x64__8wekyb3d8bbwe\\Calculator.exe N/A      |\n",
      "|    0     13272    C+G   ....525.0_x64__8wekyb3d8bbwe\\YourPhone.exe N/A      |\n",
      "|    0     13320    C+G   ...54.91.0_x64__kzf8qxf38zg5c\\SkypeApp.exe N/A      |\n",
      "|    0     13644    C+G   Insufficient Permissions                   N/A      |\n",
      "+-----------------------------------------------------------------------------+\n"
     ]
    }
   ],
   "source": [
    "## check device\n",
    "!nvidia-smi"
   ]
  },
  {
   "cell_type": "code",
   "execution_count": 6,
   "metadata": {},
   "outputs": [],
   "source": [
    "import os\n",
    "import keras\n",
    "\n",
    "# 請嘗試設定 GPU：os.environ\n",
    "os.environ[\"CUDA_VISIBLE_DEVICES\"] = \"0\""
   ]
  },
  {
   "cell_type": "code",
   "execution_count": 7,
   "metadata": {},
   "outputs": [],
   "source": [
    "train, test = keras.datasets.cifar10.load_data()\n",
    "x_train, y_train = train\n",
    "x_test, y_test = test"
   ]
  },
  {
   "cell_type": "code",
   "execution_count": 8,
   "metadata": {},
   "outputs": [],
   "source": [
    "## 資料前處理\n",
    "\n",
    "def preproc_x(x, flatten=True):\n",
    "    x = x / 255 * 2\n",
    "    x -= 1\n",
    "    if flatten:\n",
    "        x = x.reshape((len(x), -1))\n",
    "    return x\n",
    "\n",
    "def preproc_y(y, num_classes = 10):\n",
    "    if y.shape[-1] == 1:\n",
    "        y = keras.utils.to_categorical(y, num_classes)\n",
    "    return y"
   ]
  },
  {
   "cell_type": "code",
   "execution_count": 9,
   "metadata": {},
   "outputs": [],
   "source": [
    "# Preproc the inputs\n",
    "x_train = preproc_x(x_train)\n",
    "x_test = preproc_x(x_test)\n",
    "\n",
    "# Preprc the outputs\n",
    "y_train = preproc_y(y_train)\n",
    "y_test = preproc_y(y_test)"
   ]
  },
  {
   "cell_type": "code",
   "execution_count": 27,
   "metadata": {},
   "outputs": [
    {
     "name": "stdout",
     "output_type": "stream",
     "text": [
      "Model: \"model_4\"\n",
      "_________________________________________________________________\n",
      "Layer (type)                 Output Shape              Param #   \n",
      "=================================================================\n",
      "input_6 (InputLayer)         (None, 3072)              0         \n",
      "_________________________________________________________________\n",
      "hidden_layer1 (Dense)        (None, 2048)              6293504   \n",
      "_________________________________________________________________\n",
      "hidden_layer2 (Dense)        (None, 1024)              2098176   \n",
      "_________________________________________________________________\n",
      "hidden_layer3 (Dense)        (None, 512)               524800    \n",
      "_________________________________________________________________\n",
      "hidden_layer4 (Dense)        (None, 256)               131328    \n",
      "_________________________________________________________________\n",
      "hidden_layer5 (Dense)        (None, 128)               32896     \n",
      "_________________________________________________________________\n",
      "hidden_layer6 (Dense)        (None, 64)                8256      \n",
      "_________________________________________________________________\n",
      "hidden_layer7 (Dense)        (None, 32)                2080      \n",
      "_________________________________________________________________\n",
      "output (Dense)               (None, 10)                330       \n",
      "=================================================================\n",
      "Total params: 9,091,370\n",
      "Trainable params: 9,091,370\n",
      "Non-trainable params: 0\n",
      "_________________________________________________________________\n"
     ]
    }
   ],
   "source": [
    "def build_mlp(input_shape, output_units=10, num_neurons=[2048, 1024, 512, 256, 128, 64, 32]):\n",
    "    input_layer = keras.layers.Input(input_shape)\n",
    "    \n",
    "    for i, n_units in enumerate(num_neurons):\n",
    "        if i == 0:\n",
    "            x = keras.layers.Dense(units=n_units, activation='relu', name=\"hidden_layer\"+str(i+1))(input_layer)\n",
    "        else:\n",
    "            x = keras.layers.Dense(units=n_units, activation='relu', name=\"hidden_layer\"+str(i+1))(x)\n",
    "\n",
    "    out = keras.layers.Dense(units=output_units, activation='softmax', name='output')(x) \n",
    "    model = keras.models.Model(inputs=input_layer, outputs=out)\n",
    "    return model\n",
    "model = build_mlp(x_train.shape[1:])\n",
    "model.summary()"
   ]
  },
  {
   "cell_type": "code",
   "execution_count": 28,
   "metadata": {},
   "outputs": [],
   "source": [
    "## 超參數設定\n",
    "LEARNING_RATE = 0.001\n",
    "EPOCHS = 100\n",
    "BATCH_SIZE = 256"
   ]
  },
  {
   "cell_type": "code",
   "execution_count": 29,
   "metadata": {},
   "outputs": [],
   "source": [
    "optimizer = keras.optimizers.Adam(lr=LEARNING_RATE)\n",
    "model.compile(loss=\"categorical_crossentropy\", metrics=[\"accuracy\"], optimizer=optimizer)"
   ]
  },
  {
   "cell_type": "code",
   "execution_count": 30,
   "metadata": {},
   "outputs": [
    {
     "name": "stdout",
     "output_type": "stream",
     "text": [
      "Train on 50000 samples, validate on 10000 samples\n",
      "Epoch 1/100\n",
      "50000/50000 [==============================] - 7s 132us/step - loss: 1.7403 - accuracy: 0.3777 - val_loss: 1.5691 - val_accuracy: 0.4406\n",
      "Epoch 2/100\n",
      "50000/50000 [==============================] - 6s 121us/step - loss: 1.4998 - accuracy: 0.4712 - val_loss: 1.4758 - val_accuracy: 0.4853\n",
      "Epoch 3/100\n",
      "50000/50000 [==============================] - 6s 121us/step - loss: 1.3767 - accuracy: 0.5159 - val_loss: 1.3827 - val_accuracy: 0.5138\n",
      "Epoch 4/100\n",
      "50000/50000 [==============================] - 6s 121us/step - loss: 1.2692 - accuracy: 0.5536 - val_loss: 1.3922 - val_accuracy: 0.5203\n",
      "Epoch 5/100\n",
      "50000/50000 [==============================] - 6s 121us/step - loss: 1.1722 - accuracy: 0.5893 - val_loss: 1.3523 - val_accuracy: 0.5352\n",
      "Epoch 6/100\n",
      "50000/50000 [==============================] - 6s 121us/step - loss: 1.0796 - accuracy: 0.6224 - val_loss: 1.3311 - val_accuracy: 0.5436\n",
      "Epoch 7/100\n",
      "50000/50000 [==============================] - 6s 121us/step - loss: 0.9933 - accuracy: 0.6490 - val_loss: 1.3449 - val_accuracy: 0.5491\n",
      "Epoch 8/100\n",
      "50000/50000 [==============================] - 6s 121us/step - loss: 0.9007 - accuracy: 0.6820 - val_loss: 1.3963 - val_accuracy: 0.5462\n",
      "Epoch 9/100\n",
      "50000/50000 [==============================] - 6s 122us/step - loss: 0.8200 - accuracy: 0.7101 - val_loss: 1.4629 - val_accuracy: 0.5396\n",
      "Epoch 10/100\n",
      "50000/50000 [==============================] - 6s 122us/step - loss: 0.7297 - accuracy: 0.7427 - val_loss: 1.5101 - val_accuracy: 0.5580\n",
      "Epoch 11/100\n",
      "50000/50000 [==============================] - 6s 122us/step - loss: 0.6504 - accuracy: 0.7694 - val_loss: 1.6208 - val_accuracy: 0.5452\n",
      "Epoch 12/100\n",
      "50000/50000 [==============================] - 6s 122us/step - loss: 0.5801 - accuracy: 0.7940 - val_loss: 1.6420 - val_accuracy: 0.5500\n",
      "Epoch 13/100\n",
      "50000/50000 [==============================] - 6s 122us/step - loss: 0.5219 - accuracy: 0.8151 - val_loss: 1.8094 - val_accuracy: 0.5460\n",
      "Epoch 14/100\n",
      "50000/50000 [==============================] - 6s 121us/step - loss: 0.4568 - accuracy: 0.8395 - val_loss: 1.8843 - val_accuracy: 0.5557\n",
      "Epoch 15/100\n",
      "50000/50000 [==============================] - 6s 122us/step - loss: 0.3989 - accuracy: 0.8605 - val_loss: 2.0366 - val_accuracy: 0.5536\n",
      "Epoch 16/100\n",
      "50000/50000 [==============================] - 6s 121us/step - loss: 0.3665 - accuracy: 0.8732 - val_loss: 2.1074 - val_accuracy: 0.5511\n",
      "Epoch 17/100\n",
      "50000/50000 [==============================] - 6s 122us/step - loss: 0.3328 - accuracy: 0.8831 - val_loss: 2.1992 - val_accuracy: 0.5499\n",
      "Epoch 18/100\n",
      "50000/50000 [==============================] - 6s 122us/step - loss: 0.3017 - accuracy: 0.8959 - val_loss: 2.2156 - val_accuracy: 0.5420\n",
      "Epoch 19/100\n",
      "50000/50000 [==============================] - 6s 121us/step - loss: 0.2730 - accuracy: 0.9057 - val_loss: 2.2618 - val_accuracy: 0.5492\n",
      "Epoch 20/100\n",
      "50000/50000 [==============================] - 6s 121us/step - loss: 0.2516 - accuracy: 0.9134 - val_loss: 2.4401 - val_accuracy: 0.5463\n",
      "Epoch 21/100\n",
      "50000/50000 [==============================] - 6s 122us/step - loss: 0.2318 - accuracy: 0.9206 - val_loss: 2.5499 - val_accuracy: 0.5539\n",
      "Epoch 22/100\n",
      "50000/50000 [==============================] - 6s 121us/step - loss: 0.2168 - accuracy: 0.9257 - val_loss: 2.6270 - val_accuracy: 0.5462\n",
      "Epoch 23/100\n",
      "50000/50000 [==============================] - 6s 121us/step - loss: 0.2041 - accuracy: 0.9314 - val_loss: 2.8177 - val_accuracy: 0.5388\n",
      "Epoch 24/100\n",
      "50000/50000 [==============================] - 6s 122us/step - loss: 0.1811 - accuracy: 0.9398 - val_loss: 2.6364 - val_accuracy: 0.5469\n",
      "Epoch 25/100\n",
      "50000/50000 [==============================] - 6s 122us/step - loss: 0.1786 - accuracy: 0.9405 - val_loss: 2.8203 - val_accuracy: 0.5452\n",
      "Epoch 26/100\n",
      "50000/50000 [==============================] - 6s 121us/step - loss: 0.1637 - accuracy: 0.9461 - val_loss: 2.8168 - val_accuracy: 0.5572\n",
      "Epoch 27/100\n",
      "50000/50000 [==============================] - 6s 122us/step - loss: 0.1522 - accuracy: 0.9484 - val_loss: 2.8712 - val_accuracy: 0.5601\n",
      "Epoch 28/100\n",
      "50000/50000 [==============================] - 6s 122us/step - loss: 0.1557 - accuracy: 0.9466 - val_loss: 3.0393 - val_accuracy: 0.5473\n",
      "Epoch 29/100\n",
      "50000/50000 [==============================] - 6s 121us/step - loss: 0.1461 - accuracy: 0.9516 - val_loss: 2.9251 - val_accuracy: 0.5478\n",
      "Epoch 30/100\n",
      "50000/50000 [==============================] - 6s 122us/step - loss: 0.1390 - accuracy: 0.9540 - val_loss: 2.8420 - val_accuracy: 0.5461\n",
      "Epoch 31/100\n",
      "50000/50000 [==============================] - 6s 122us/step - loss: 0.1413 - accuracy: 0.9533 - val_loss: 2.9395 - val_accuracy: 0.5497\n",
      "Epoch 32/100\n",
      "50000/50000 [==============================] - 6s 121us/step - loss: 0.1220 - accuracy: 0.9605 - val_loss: 3.0113 - val_accuracy: 0.5492\n",
      "Epoch 33/100\n",
      "50000/50000 [==============================] - 6s 121us/step - loss: 0.1234 - accuracy: 0.9608 - val_loss: 2.9388 - val_accuracy: 0.5536\n",
      "Epoch 34/100\n",
      "50000/50000 [==============================] - 6s 121us/step - loss: 0.1207 - accuracy: 0.9609 - val_loss: 2.9197 - val_accuracy: 0.5568\n",
      "Epoch 35/100\n",
      "50000/50000 [==============================] - 6s 121us/step - loss: 0.1245 - accuracy: 0.9595 - val_loss: 2.9984 - val_accuracy: 0.5457\n",
      "Epoch 36/100\n",
      "50000/50000 [==============================] - 6s 121us/step - loss: 0.1119 - accuracy: 0.9642 - val_loss: 2.9935 - val_accuracy: 0.5505\n",
      "Epoch 37/100\n",
      "50000/50000 [==============================] - 6s 122us/step - loss: 0.1064 - accuracy: 0.9659 - val_loss: 2.9357 - val_accuracy: 0.5499\n",
      "Epoch 38/100\n",
      "50000/50000 [==============================] - 6s 122us/step - loss: 0.1069 - accuracy: 0.9652 - val_loss: 3.0976 - val_accuracy: 0.5531\n",
      "Epoch 39/100\n",
      "50000/50000 [==============================] - 6s 121us/step - loss: 0.1043 - accuracy: 0.9670 - val_loss: 2.9755 - val_accuracy: 0.5474\n",
      "Epoch 40/100\n",
      "50000/50000 [==============================] - 6s 121us/step - loss: 0.0973 - accuracy: 0.9686 - val_loss: 3.1824 - val_accuracy: 0.5430\n",
      "Epoch 41/100\n",
      "50000/50000 [==============================] - 6s 122us/step - loss: 0.1082 - accuracy: 0.9661 - val_loss: 3.1516 - val_accuracy: 0.5499\n",
      "Epoch 42/100\n",
      "50000/50000 [==============================] - 6s 122us/step - loss: 0.0914 - accuracy: 0.9706 - val_loss: 3.2202 - val_accuracy: 0.5448\n",
      "Epoch 43/100\n",
      "50000/50000 [==============================] - 6s 122us/step - loss: 0.0941 - accuracy: 0.9705 - val_loss: 3.3136 - val_accuracy: 0.5476\n",
      "Epoch 44/100\n",
      "50000/50000 [==============================] - 6s 121us/step - loss: 0.0945 - accuracy: 0.9704 - val_loss: 2.9328 - val_accuracy: 0.5538\n",
      "Epoch 45/100\n",
      "50000/50000 [==============================] - 6s 121us/step - loss: 0.0959 - accuracy: 0.9700 - val_loss: 3.0429 - val_accuracy: 0.5561\n",
      "Epoch 46/100\n",
      "50000/50000 [==============================] - 6s 122us/step - loss: 0.0807 - accuracy: 0.9740 - val_loss: 3.0870 - val_accuracy: 0.5550\n",
      "Epoch 47/100\n",
      "50000/50000 [==============================] - 6s 121us/step - loss: 0.0802 - accuracy: 0.9754 - val_loss: 3.2057 - val_accuracy: 0.5470\n",
      "Epoch 48/100\n",
      "50000/50000 [==============================] - 6s 121us/step - loss: 0.0902 - accuracy: 0.9721 - val_loss: 3.0992 - val_accuracy: 0.5489\n",
      "Epoch 49/100\n",
      "50000/50000 [==============================] - 6s 121us/step - loss: 0.0836 - accuracy: 0.9746 - val_loss: 2.9706 - val_accuracy: 0.5442\n",
      "Epoch 50/100\n",
      "50000/50000 [==============================] - 6s 121us/step - loss: 0.0829 - accuracy: 0.9735 - val_loss: 3.0891 - val_accuracy: 0.5522\n",
      "Epoch 51/100\n",
      "50000/50000 [==============================] - 6s 122us/step - loss: 0.0862 - accuracy: 0.9726 - val_loss: 3.1677 - val_accuracy: 0.5514\n",
      "Epoch 52/100\n",
      "50000/50000 [==============================] - 6s 121us/step - loss: 0.0789 - accuracy: 0.9754 - val_loss: 3.3132 - val_accuracy: 0.5495\n",
      "Epoch 53/100\n",
      "50000/50000 [==============================] - 6s 121us/step - loss: 0.0767 - accuracy: 0.9764 - val_loss: 3.3318 - val_accuracy: 0.5542\n",
      "Epoch 54/100\n",
      "50000/50000 [==============================] - 6s 122us/step - loss: 0.0677 - accuracy: 0.9792 - val_loss: 3.2372 - val_accuracy: 0.5569\n",
      "Epoch 55/100\n"
     ]
    },
    {
     "name": "stdout",
     "output_type": "stream",
     "text": [
      "50000/50000 [==============================] - 6s 121us/step - loss: 0.0819 - accuracy: 0.9747 - val_loss: 2.9552 - val_accuracy: 0.5390\n",
      "Epoch 56/100\n",
      "50000/50000 [==============================] - 6s 121us/step - loss: 0.0676 - accuracy: 0.9793 - val_loss: 3.1014 - val_accuracy: 0.5542\n",
      "Epoch 57/100\n",
      "50000/50000 [==============================] - 6s 122us/step - loss: 0.0739 - accuracy: 0.9778 - val_loss: 3.0932 - val_accuracy: 0.5495\n",
      "Epoch 58/100\n",
      "50000/50000 [==============================] - 6s 122us/step - loss: 0.0671 - accuracy: 0.9796 - val_loss: 3.3758 - val_accuracy: 0.5522\n",
      "Epoch 59/100\n",
      "50000/50000 [==============================] - 6s 121us/step - loss: 0.0651 - accuracy: 0.9802 - val_loss: 3.2406 - val_accuracy: 0.5456\n",
      "Epoch 60/100\n",
      "50000/50000 [==============================] - 6s 121us/step - loss: 0.0736 - accuracy: 0.9780 - val_loss: 3.4289 - val_accuracy: 0.5493\n",
      "Epoch 61/100\n",
      "50000/50000 [==============================] - 6s 121us/step - loss: 0.0716 - accuracy: 0.9782 - val_loss: 3.2416 - val_accuracy: 0.5484\n",
      "Epoch 62/100\n",
      "50000/50000 [==============================] - 6s 122us/step - loss: 0.0646 - accuracy: 0.9804 - val_loss: 3.2663 - val_accuracy: 0.5473\n",
      "Epoch 63/100\n",
      "50000/50000 [==============================] - 6s 121us/step - loss: 0.0631 - accuracy: 0.9813 - val_loss: 3.2974 - val_accuracy: 0.5441\n",
      "Epoch 64/100\n",
      "50000/50000 [==============================] - 6s 122us/step - loss: 0.0663 - accuracy: 0.9795 - val_loss: 3.2864 - val_accuracy: 0.5449\n",
      "Epoch 65/100\n",
      "50000/50000 [==============================] - 6s 122us/step - loss: 0.0681 - accuracy: 0.9797 - val_loss: 3.1979 - val_accuracy: 0.5493\n",
      "Epoch 66/100\n",
      "50000/50000 [==============================] - 6s 121us/step - loss: 0.0650 - accuracy: 0.9804 - val_loss: 3.5043 - val_accuracy: 0.5529\n",
      "Epoch 67/100\n",
      "50000/50000 [==============================] - 6s 121us/step - loss: 0.0635 - accuracy: 0.9809 - val_loss: 3.2980 - val_accuracy: 0.5475\n",
      "Epoch 68/100\n",
      "50000/50000 [==============================] - 6s 122us/step - loss: 0.0706 - accuracy: 0.9786 - val_loss: 3.1947 - val_accuracy: 0.5437\n",
      "Epoch 69/100\n",
      "50000/50000 [==============================] - 6s 121us/step - loss: 0.0601 - accuracy: 0.9813 - val_loss: 3.2253 - val_accuracy: 0.5488\n",
      "Epoch 70/100\n",
      "50000/50000 [==============================] - 6s 121us/step - loss: 0.0588 - accuracy: 0.9818 - val_loss: 3.2308 - val_accuracy: 0.5579\n",
      "Epoch 71/100\n",
      "50000/50000 [==============================] - 6s 122us/step - loss: 0.0541 - accuracy: 0.9843 - val_loss: 3.2055 - val_accuracy: 0.5546\n",
      "Epoch 72/100\n",
      "50000/50000 [==============================] - 6s 121us/step - loss: 0.0477 - accuracy: 0.9863 - val_loss: 3.4500 - val_accuracy: 0.5543\n",
      "Epoch 73/100\n",
      "50000/50000 [==============================] - 6s 122us/step - loss: 0.0495 - accuracy: 0.9855 - val_loss: 3.2387 - val_accuracy: 0.5595\n",
      "Epoch 74/100\n",
      "50000/50000 [==============================] - 6s 122us/step - loss: 0.0610 - accuracy: 0.9824 - val_loss: 3.2291 - val_accuracy: 0.5544\n",
      "Epoch 75/100\n",
      "50000/50000 [==============================] - 6s 121us/step - loss: 0.0500 - accuracy: 0.9850 - val_loss: 3.2451 - val_accuracy: 0.5475\n",
      "Epoch 76/100\n",
      "50000/50000 [==============================] - 6s 121us/step - loss: 0.0541 - accuracy: 0.9834 - val_loss: 3.5048 - val_accuracy: 0.5577\n",
      "Epoch 77/100\n",
      "50000/50000 [==============================] - 6s 121us/step - loss: 0.0575 - accuracy: 0.9821 - val_loss: 3.2699 - val_accuracy: 0.5513\n",
      "Epoch 78/100\n",
      "50000/50000 [==============================] - 6s 121us/step - loss: 0.0568 - accuracy: 0.9822 - val_loss: 3.3466 - val_accuracy: 0.5532\n",
      "Epoch 79/100\n",
      "50000/50000 [==============================] - 6s 122us/step - loss: 0.0485 - accuracy: 0.9851 - val_loss: 3.3329 - val_accuracy: 0.5484\n",
      "Epoch 80/100\n",
      "50000/50000 [==============================] - 6s 122us/step - loss: 0.0589 - accuracy: 0.9829 - val_loss: 3.1845 - val_accuracy: 0.5526\n",
      "Epoch 81/100\n",
      "50000/50000 [==============================] - 6s 121us/step - loss: 0.0572 - accuracy: 0.9836 - val_loss: 3.0889 - val_accuracy: 0.5483\n",
      "Epoch 82/100\n",
      "50000/50000 [==============================] - 6s 121us/step - loss: 0.0478 - accuracy: 0.9855 - val_loss: 3.3898 - val_accuracy: 0.5508\n",
      "Epoch 83/100\n",
      "50000/50000 [==============================] - 6s 121us/step - loss: 0.0485 - accuracy: 0.9860 - val_loss: 3.2859 - val_accuracy: 0.5585\n",
      "Epoch 84/100\n",
      "50000/50000 [==============================] - 6s 121us/step - loss: 0.0531 - accuracy: 0.9839 - val_loss: 3.1557 - val_accuracy: 0.5483\n",
      "Epoch 85/100\n",
      "50000/50000 [==============================] - 6s 122us/step - loss: 0.0450 - accuracy: 0.9866 - val_loss: 3.6894 - val_accuracy: 0.5552\n",
      "Epoch 86/100\n",
      "50000/50000 [==============================] - 6s 121us/step - loss: 0.0561 - accuracy: 0.9833 - val_loss: 3.2131 - val_accuracy: 0.5436\n",
      "Epoch 87/100\n",
      "50000/50000 [==============================] - 6s 121us/step - loss: 0.0511 - accuracy: 0.9855 - val_loss: 3.3010 - val_accuracy: 0.5569\n",
      "Epoch 88/100\n",
      "50000/50000 [==============================] - 6s 121us/step - loss: 0.0328 - accuracy: 0.9903 - val_loss: 3.5568 - val_accuracy: 0.5438\n",
      "Epoch 89/100\n",
      "50000/50000 [==============================] - 6s 122us/step - loss: 0.0427 - accuracy: 0.9876 - val_loss: 3.7575 - val_accuracy: 0.5530\n",
      "Epoch 90/100\n",
      "50000/50000 [==============================] - 6s 122us/step - loss: 0.0518 - accuracy: 0.9848 - val_loss: 3.4635 - val_accuracy: 0.5445\n",
      "Epoch 91/100\n",
      "50000/50000 [==============================] - 6s 122us/step - loss: 0.0470 - accuracy: 0.9859 - val_loss: 3.1576 - val_accuracy: 0.5476\n",
      "Epoch 92/100\n",
      "50000/50000 [==============================] - 6s 121us/step - loss: 0.0529 - accuracy: 0.9849 - val_loss: 3.3562 - val_accuracy: 0.5505\n",
      "Epoch 93/100\n",
      "50000/50000 [==============================] - 6s 122us/step - loss: 0.0431 - accuracy: 0.9873 - val_loss: 3.6205 - val_accuracy: 0.5541\n",
      "Epoch 94/100\n",
      "50000/50000 [==============================] - 6s 121us/step - loss: 0.0415 - accuracy: 0.9875 - val_loss: 3.7612 - val_accuracy: 0.5547\n",
      "Epoch 95/100\n",
      "50000/50000 [==============================] - 6s 122us/step - loss: 0.0516 - accuracy: 0.9854 - val_loss: 3.4180 - val_accuracy: 0.5476\n",
      "Epoch 96/100\n",
      "50000/50000 [==============================] - 6s 122us/step - loss: 0.0565 - accuracy: 0.9831 - val_loss: 3.4007 - val_accuracy: 0.5540\n",
      "Epoch 97/100\n",
      "50000/50000 [==============================] - 6s 122us/step - loss: 0.0321 - accuracy: 0.9910 - val_loss: 3.8593 - val_accuracy: 0.5553\n",
      "Epoch 98/100\n",
      "50000/50000 [==============================] - 6s 121us/step - loss: 0.0532 - accuracy: 0.9842 - val_loss: 3.1768 - val_accuracy: 0.5573\n",
      "Epoch 99/100\n",
      "50000/50000 [==============================] - 6s 121us/step - loss: 0.0388 - accuracy: 0.9887 - val_loss: 3.3295 - val_accuracy: 0.5547\n",
      "Epoch 100/100\n",
      "50000/50000 [==============================] - 6s 121us/step - loss: 0.0380 - accuracy: 0.9890 - val_loss: 3.6264 - val_accuracy: 0.5554\n"
     ]
    },
    {
     "data": {
      "text/plain": [
       "<keras.callbacks.callbacks.History at 0x2c5f8a7d088>"
      ]
     },
     "execution_count": 30,
     "metadata": {},
     "output_type": "execute_result"
    }
   ],
   "source": [
    "model.fit(x_train, y_train, \n",
    "          epochs=EPOCHS, \n",
    "          batch_size=BATCH_SIZE, \n",
    "          validation_data=(x_test, y_test), \n",
    "          shuffle=True)"
   ]
  },
  {
   "cell_type": "code",
   "execution_count": 32,
   "metadata": {},
   "outputs": [
    {
     "data": {
      "image/png": "[encoded data removed]",
      "text/plain": [
       "<Figure size 432x288 with 1 Axes>"
      ]
     },
     "metadata": {
      "needs_background": "light"
     },
     "output_type": "display_data"
    },
    {
     "data": {
      "image/png": "[encoded data removed]",
      "text/plain": [
       "<Figure size 432x288 with 1 Axes>"
      ]
     },
     "metadata": {
      "needs_background": "light"
     },
     "output_type": "display_data"
    }
   ],
   "source": [
    "import matplotlib.pyplot as plt\n",
    "\n",
    "\n",
    "train_loss = model.history.history[\"loss\"]\n",
    "valid_loss = model.history.history[\"val_loss\"]\n",
    "\n",
    "train_acc = model.history.history[\"accuracy\"]\n",
    "valid_acc = model.history.history[\"val_accuracy\"]\n",
    "\n",
    "plt.plot(range(len(train_loss)), train_loss, label=\"train loss\")\n",
    "plt.plot(range(len(valid_loss)), valid_loss, label=\"valid loss\")\n",
    "plt.legend()\n",
    "plt.title(\"Loss\")\n",
    "plt.show()\n",
    "\n",
    "plt.plot(range(len(train_acc)), train_acc, label=\"train accuracy\")\n",
    "plt.plot(range(len(valid_acc)), valid_acc, label=\"valid accuracy\")\n",
    "plt.legend()\n",
    "plt.title(\"Accuracy\")\n",
    "plt.show()"
   ]
  }
 ],
 "metadata": {
  "kernelspec": {
   "display_name": "Python 3",
   "language": "python",
   "name": "python3"
  },
  "language_info": {
   "codemirror_mode": {
    "name": "ipython",
    "version": 3
   },
   "file_extension": ".py",
   "mimetype": "text/x-python",
   "name": "python",
   "nbconvert_exporter": "python",
   "pygments_lexer": "ipython3",
   "version": "3.7.5"
  }
 },
 "nbformat": 4,
 "nbformat_minor": 2
}
