{
 "cells": [
  {
   "cell_type": "markdown",
   "metadata": {},
   "source": [
    "## Work\n",
    "1. 請嘗試寫一個 callback 用來記錄各類別在訓練過程中，對驗證集的 True Positive 與 True Negative"
   ]
  },
  {
   "cell_type": "code",
   "execution_count": 1,
   "metadata": {},
   "outputs": [
    {
     "name": "stderr",
     "output_type": "stream",
     "text": [
      "Using TensorFlow backend.\n"
     ]
    }
   ],
   "source": [
    "import os\n",
    "import keras"
   ]
  },
  {
   "cell_type": "code",
   "execution_count": 2,
   "metadata": {},
   "outputs": [],
   "source": [
    "train, test = keras.datasets.cifar10.load_data()"
   ]
  },
  {
   "cell_type": "code",
   "execution_count": 3,
   "metadata": {},
   "outputs": [],
   "source": [
    "## 資料前處理\n",
    "def preproc_x(x, flatten=True):\n",
    "    x = x / 255.\n",
    "    if flatten:\n",
    "        x = x.reshape((len(x), -1))\n",
    "    return x\n",
    "\n",
    "def preproc_y(y, num_classes=10):\n",
    "    if y.shape[-1] == 1:\n",
    "        y = keras.utils.to_categorical(y, num_classes)\n",
    "    return y    "
   ]
  },
  {
   "cell_type": "code",
   "execution_count": 4,
   "metadata": {},
   "outputs": [],
   "source": [
    "x_train, y_train = train\n",
    "x_test, y_test = test\n",
    "\n",
    "# Preproc the inputs\n",
    "x_train = preproc_x(x_train)\n",
    "x_test = preproc_x(x_test)\n",
    "\n",
    "# Preprc the outputs\n",
    "y_train = preproc_y(y_train)\n",
    "y_test = preproc_y(y_test)"
   ]
  },
  {
   "cell_type": "code",
   "execution_count": 5,
   "metadata": {},
   "outputs": [],
   "source": [
    "from keras.layers import BatchNormalization\n",
    "def build_mlp(input_shape, output_units=10, num_neurons=[256, 256, 256]):\n",
    "    input_layer = keras.layers.Input(input_shape)\n",
    "    for i, n_units in enumerate(num_neurons):\n",
    "        if i==0:\n",
    "            x = keras.layers.Dense(units=n_units, activation='relu', name='hidden_layer'+str(i))(input_layer)\n",
    "            x = BatchNormalization()(x)\n",
    "        else:\n",
    "            x = keras.layers.Dense(units=n_units, activation='relu', name='hidden_layer'+str(i))(x)\n",
    "            x = BatchNormalization()(x)\n",
    "    out = keras.layers.Dense(units=output_units, activation='softmax', name='output')(x)\n",
    "    model = keras.models.Model(inputs=[input_layer], outputs=[out])\n",
    "    return model"
   ]
  },
  {
   "cell_type": "code",
   "execution_count": 6,
   "metadata": {},
   "outputs": [],
   "source": [
    "## 超參數設定\n",
    "LEARNING_RATE = 1e-3\n",
    "EPOCHS = 25\n",
    "BATCH_SIZE = 1024\n",
    "MOMENTUM = 0.95"
   ]
  },
  {
   "cell_type": "code",
   "execution_count": 19,
   "metadata": {},
   "outputs": [],
   "source": [
    "# 載入 Callbacks\n",
    "from keras.callbacks import Callback\n",
    "\n",
    "# Record_tp_tn\n",
    "class Record_tp_tn(Callback):\n",
    "    def on_train_begin(self, epoch, logs={}):\n",
    "        logs = logs or {}\n",
    "        record_items = [\"val_tp\", \"val_tn\"]\n",
    "        for i in record_items:\n",
    "            if i not in self.params[\"metrics\"]:\n",
    "                self.params[\"metrics\"].append(i)\n",
    "        \n",
    "    def on_epoch_end(self, epoch, logs={}, thres=0.5):\n",
    "        logs = logs or {}\n",
    "        y_true = self.validation_data[1].argmax(axis=1)\n",
    "        y_pred = self.model.predict(self.validation_data[0])\n",
    "        y_pred = (y_pred[:, 1] >= thres) * 1\n",
    "        \n",
    "        val_tp = sum(y_true*y_pred)\n",
    "        val_tn = sum((y_true==0)&(y_pred==0))\n",
    "        \n",
    "        logs[\"val_tp\"] = val_tp\n",
    "        logs[\"val_tn\"] = val_tn\n",
    "        \n",
    "rec_tptn = Record_tp_tn()"
   ]
  },
  {
   "cell_type": "code",
   "execution_count": 22,
   "metadata": {
    "scrolled": true
   },
   "outputs": [
    {
     "name": "stdout",
     "output_type": "stream",
     "text": [
      "Model: \"model_9\"\n",
      "_________________________________________________________________\n",
      "Layer (type)                 Output Shape              Param #   \n",
      "=================================================================\n",
      "input_9 (InputLayer)         (None, 3072)              0         \n",
      "_________________________________________________________________\n",
      "hidden_layer0 (Dense)        (None, 256)               786688    \n",
      "_________________________________________________________________\n",
      "batch_normalization_25 (Batc (None, 256)               1024      \n",
      "_________________________________________________________________\n",
      "hidden_layer1 (Dense)        (None, 256)               65792     \n",
      "_________________________________________________________________\n",
      "batch_normalization_26 (Batc (None, 256)               1024      \n",
      "_________________________________________________________________\n",
      "hidden_layer2 (Dense)        (None, 256)               65792     \n",
      "_________________________________________________________________\n",
      "batch_normalization_27 (Batc (None, 256)               1024      \n",
      "_________________________________________________________________\n",
      "output (Dense)               (None, 10)                2570      \n",
      "=================================================================\n",
      "Total params: 923,914\n",
      "Trainable params: 922,378\n",
      "Non-trainable params: 1,536\n",
      "_________________________________________________________________\n",
      "Train on 50000 samples, validate on 10000 samples\n",
      "Epoch 1/25\n",
      "50000/50000 [==============================] - 2s 48us/step - loss: 2.2406 - accuracy: 0.2655 - val_loss: 2.1917 - val_accuracy: 0.1657\n",
      "Epoch 2/25\n",
      "50000/50000 [==============================] - 2s 38us/step - loss: 1.7719 - accuracy: 0.3851 - val_loss: 2.0071 - val_accuracy: 0.2824\n",
      "Epoch 3/25\n",
      "50000/50000 [==============================] - 2s 38us/step - loss: 1.6408 - accuracy: 0.4264 - val_loss: 1.8490 - val_accuracy: 0.3610\n",
      "Epoch 4/25\n",
      "50000/50000 [==============================] - 2s 38us/step - loss: 1.5670 - accuracy: 0.4514 - val_loss: 1.7356 - val_accuracy: 0.3924\n",
      "Epoch 5/25\n",
      "50000/50000 [==============================] - 2s 38us/step - loss: 1.5138 - accuracy: 0.4705 - val_loss: 1.6442 - val_accuracy: 0.4224\n",
      "Epoch 6/25\n",
      "50000/50000 [==============================] - 2s 39us/step - loss: 1.4705 - accuracy: 0.4853 - val_loss: 1.5971 - val_accuracy: 0.4381\n",
      "Epoch 7/25\n",
      "50000/50000 [==============================] - 2s 38us/step - loss: 1.4326 - accuracy: 0.4982 - val_loss: 1.5545 - val_accuracy: 0.4490\n",
      "Epoch 8/25\n",
      "50000/50000 [==============================] - 2s 38us/step - loss: 1.4006 - accuracy: 0.5097 - val_loss: 1.5394 - val_accuracy: 0.4596\n",
      "Epoch 9/25\n",
      "50000/50000 [==============================] - 2s 39us/step - loss: 1.3705 - accuracy: 0.5213 - val_loss: 1.5096 - val_accuracy: 0.4699\n",
      "Epoch 10/25\n",
      "50000/50000 [==============================] - 2s 38us/step - loss: 1.3433 - accuracy: 0.5319 - val_loss: 1.5025 - val_accuracy: 0.4697\n",
      "Epoch 11/25\n",
      "50000/50000 [==============================] - 2s 38us/step - loss: 1.3178 - accuracy: 0.5425 - val_loss: 1.4943 - val_accuracy: 0.4724\n",
      "Epoch 12/25\n",
      "50000/50000 [==============================] - 2s 38us/step - loss: 1.2943 - accuracy: 0.5496 - val_loss: 1.4758 - val_accuracy: 0.4758\n",
      "Epoch 13/25\n",
      "50000/50000 [==============================] - 2s 38us/step - loss: 1.2721 - accuracy: 0.5607 - val_loss: 1.4744 - val_accuracy: 0.4843\n",
      "Epoch 14/25\n",
      "50000/50000 [==============================] - 2s 38us/step - loss: 1.2507 - accuracy: 0.5688 - val_loss: 1.4669 - val_accuracy: 0.4862\n",
      "Epoch 15/25\n",
      "50000/50000 [==============================] - 2s 38us/step - loss: 1.2293 - accuracy: 0.5752 - val_loss: 1.4591 - val_accuracy: 0.4905\n",
      "Epoch 16/25\n",
      "50000/50000 [==============================] - 2s 38us/step - loss: 1.2103 - accuracy: 0.5826 - val_loss: 1.4555 - val_accuracy: 0.4898\n",
      "Epoch 17/25\n",
      "50000/50000 [==============================] - 2s 38us/step - loss: 1.1902 - accuracy: 0.5884 - val_loss: 1.4462 - val_accuracy: 0.4918\n",
      "Epoch 18/25\n",
      "50000/50000 [==============================] - 2s 38us/step - loss: 1.1725 - accuracy: 0.5963 - val_loss: 1.4560 - val_accuracy: 0.4925\n",
      "Epoch 19/25\n",
      "50000/50000 [==============================] - 2s 39us/step - loss: 1.1547 - accuracy: 0.6035 - val_loss: 1.4454 - val_accuracy: 0.4962\n",
      "Epoch 20/25\n",
      "50000/50000 [==============================] - 2s 38us/step - loss: 1.1363 - accuracy: 0.6114 - val_loss: 1.4446 - val_accuracy: 0.4953\n",
      "Epoch 21/25\n",
      "50000/50000 [==============================] - 2s 38us/step - loss: 1.1198 - accuracy: 0.6155 - val_loss: 1.4479 - val_accuracy: 0.4960\n",
      "Epoch 22/25\n",
      "50000/50000 [==============================] - 2s 39us/step - loss: 1.1029 - accuracy: 0.6216 - val_loss: 1.4573 - val_accuracy: 0.4929\n",
      "Epoch 23/25\n",
      "50000/50000 [==============================] - 2s 38us/step - loss: 1.0854 - accuracy: 0.6295 - val_loss: 1.4432 - val_accuracy: 0.4996\n",
      "Epoch 24/25\n",
      "50000/50000 [==============================] - 2s 38us/step - loss: 1.0676 - accuracy: 0.6354 - val_loss: 1.4438 - val_accuracy: 0.5016\n",
      "Epoch 25/25\n",
      "50000/50000 [==============================] - 2s 39us/step - loss: 1.0523 - accuracy: 0.6400 - val_loss: 1.4440 - val_accuracy: 0.4998\n"
     ]
    }
   ],
   "source": [
    "model = build_mlp(input_shape=x_train.shape[1:])\n",
    "model.summary()\n",
    "optimizer = keras.optimizers.SGD(lr=LEARNING_RATE, nesterov=True, momentum=MOMENTUM)\n",
    "model.compile(loss=\"categorical_crossentropy\", metrics=[\"accuracy\"], optimizer=optimizer)\n",
    "\n",
    "model.fit(x_train, y_train, batch_size=BATCH_SIZE, epochs=EPOCHS, validation_data=(x_test, y_test), shuffle=True, callbacks=[rec_tptn])\n",
    "\n",
    "# Collect results\n",
    "train_loss = model.history.history[\"loss\"]\n",
    "valid_loss = model.history.history[\"val_loss\"]\n",
    "train_acc = model.history.history[\"accuracy\"]\n",
    "valid_acc = model.history.history[\"val_accuracy\"]"
   ]
  },
  {
   "cell_type": "code",
   "execution_count": 26,
   "metadata": {},
   "outputs": [],
   "source": [
    "valid_tp = model.history.history[\"val_tp\"]\n",
    "valid_tn = model.history.history[\"val_tn\"]"
   ]
  },
  {
   "cell_type": "code",
   "execution_count": 27,
   "metadata": {},
   "outputs": [
    {
     "data": {
      "image/png": "[encoded data removed]",
      "text/plain": [
       "<Figure size 432x288 with 1 Axes>"
      ]
     },
     "metadata": {
      "needs_background": "light"
     },
     "output_type": "display_data"
    },
    {
     "data": {
      "image/png": "[encoded data removed]",
      "text/plain": [
       "<Figure size 432x288 with 1 Axes>"
      ]
     },
     "metadata": {
      "needs_background": "light"
     },
     "output_type": "display_data"
    },
    {
     "data": {
      "image/png": "[encoded data removed]",
      "text/plain": [
       "<Figure size 432x288 with 1 Axes>"
      ]
     },
     "metadata": {
      "needs_background": "light"
     },
     "output_type": "display_data"
    }
   ],
   "source": [
    "import matplotlib.pyplot as plt\n",
    "%matplotlib inline\n",
    "\n",
    "plt.plot(range(len(train_loss)), train_loss, label=\"train loss\")\n",
    "plt.plot(range(len(valid_loss)), valid_loss, label=\"valid loss\")\n",
    "plt.legend()\n",
    "plt.title(\"Loss\")\n",
    "plt.show()\n",
    "\n",
    "plt.plot(range(len(train_acc)), train_acc, label=\"train accuracy\")\n",
    "plt.plot(range(len(valid_acc)), valid_acc, label=\"valid accuracy\")\n",
    "plt.legend()\n",
    "plt.title(\"Accuracy\")\n",
    "plt.show()\n",
    "\n",
    "plt.plot(range(len(valid_tp)), valid_tp, label=\"valid tp\", color=\"navy\")\n",
    "plt.plot(range(len(valid_tn)), valid_tn, label=\"valid tn\", color=\"red\")\n",
    "plt.legend()\n",
    "plt.title(\"True positives and True Negatives\")\n",
    "plt.show()\n"
   ]
  }
 ],
 "metadata": {
  "kernelspec": {
   "display_name": "Python 3",
   "language": "python",
   "name": "python3"
  },
  "language_info": {
   "codemirror_mode": {
    "name": "ipython",
    "version": 3
   },
   "file_extension": ".py",
   "mimetype": "text/x-python",
   "name": "python",
   "nbconvert_exporter": "python",
   "pygments_lexer": "ipython3",
   "version": "3.7.5"
  }
 },
 "nbformat": 4,
 "nbformat_minor": 2
}
